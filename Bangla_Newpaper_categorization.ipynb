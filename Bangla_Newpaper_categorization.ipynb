{
  "cells": [
    {
      "cell_type": "code",
      "execution_count": 1,
      "metadata": {
        "id": "jzmSSm8cGgpb"
      },
      "outputs": [],
      "source": [
        "import numpy as np\n",
        "import pandas as pd"
      ]
    },
    {
      "cell_type": "code",
      "execution_count": 2,
      "metadata": {
        "colab": {
          "base_uri": "https://localhost:8080/",
          "height": 90,
          "resources": {
            "http://localhost:8080/nbextensions/google.colab/files.js": {
              "data": "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",
              "headers": [
                [
                  "content-type",
                  "application/javascript"
                ]
              ],
              "ok": true,
              "status": 200,
              "status_text": ""
            }
          }
        },
        "id": "R24Nvp4qGq7v",
        "outputId": "3f77f96b-7872-48e3-9c94-ca23d5d1727e"
      },
      "outputs": [
        {
          "output_type": "display_data",
          "data": {
            "text/plain": [
              "<IPython.core.display.HTML object>"
            ],
            "text/html": [
              "\n",
              "     <input type=\"file\" id=\"files-6bc0c6e2-5a75-4bd5-aac7-5f7126108aee\" name=\"files[]\" multiple disabled\n",
              "        style=\"border:none\" />\n",
              "     <output id=\"result-6bc0c6e2-5a75-4bd5-aac7-5f7126108aee\">\n",
              "      Upload widget is only available when the cell has been executed in the\n",
              "      current browser session. Please rerun this cell to enable.\n",
              "      </output>\n",
              "      <script src=\"/nbextensions/google.colab/files.js\"></script> "
            ]
          },
          "metadata": {}
        },
        {
          "output_type": "stream",
          "name": "stdout",
          "text": [
            "Saving kaggle.json to kaggle.json\n"
          ]
        },
        {
          "output_type": "execute_result",
          "data": {
            "text/plain": [
              "{'kaggle.json': b'{\"username\":\"nuthangowda\",\"key\":\"3b15e291dc050f84ec9c5720fcfc2df8\"}'}"
            ]
          },
          "metadata": {},
          "execution_count": 2
        }
      ],
      "source": [
        "from google.colab import files\n",
        "files.upload()"
      ]
    },
    {
      "cell_type": "code",
      "execution_count": 3,
      "metadata": {
        "id": "0l_W04dzGyXv"
      },
      "outputs": [],
      "source": [
        "!mkdir -p ~/.kaggle                                               \n",
        "!cp kaggle.json ~/.kaggle/\n",
        "!chmod 600 /root/.kaggle/kaggle.json"
      ]
    },
    {
      "cell_type": "code",
      "execution_count": 4,
      "metadata": {
        "id": "7hv-BmfTHEu4",
        "colab": {
          "base_uri": "https://localhost:8080/"
        },
        "outputId": "b8e8a654-25fe-42ca-c556-7bf5f585041f"
      },
      "outputs": [
        {
          "output_type": "stream",
          "name": "stdout",
          "text": [
            "Downloading bangla-newspaper-dataset.zip to /content\n",
            " 99% 1.02G/1.03G [00:07<00:00, 165MB/s]\n",
            "100% 1.03G/1.03G [00:07<00:00, 157MB/s]\n"
          ]
        }
      ],
      "source": [
        "!kaggle datasets download furcifer/bangla-newspaper-dataset"
      ]
    },
    {
      "cell_type": "code",
      "execution_count": 5,
      "metadata": {
        "id": "lYpBAHvnHkdo",
        "colab": {
          "base_uri": "https://localhost:8080/"
        },
        "outputId": "699aced5-22ee-432b-e8d8-f7454f4aeb80"
      },
      "outputs": [
        {
          "output_type": "stream",
          "name": "stdout",
          "text": [
            "Archive:  /content/bangla-newspaper-dataset.zip\n",
            "  inflating: data/data.json          \n",
            "  inflating: data_v2/data_v2.json    \n"
          ]
        }
      ],
      "source": [
        "!unzip /content/bangla-newspaper-dataset.zip"
      ]
    },
    {
      "cell_type": "code",
      "execution_count": 6,
      "metadata": {
        "id": "gQ4a0P3sHcsW"
      },
      "outputs": [],
      "source": [
        "import json\n",
        "with open(file='/content/data/data.json', encoding= 'utf-8') as file:\n",
        "  data = json.load(file)"
      ]
    },
    {
      "cell_type": "code",
      "execution_count": 7,
      "metadata": {
        "colab": {
          "base_uri": "https://localhost:8080/"
        },
        "id": "PTUWrHQ1H9cy",
        "outputId": "a24c29e9-8198-44ac-b333-7037879f567c"
      },
      "outputs": [
        {
          "output_type": "execute_result",
          "data": {
            "text/plain": [
              "437948"
            ]
          },
          "metadata": {},
          "execution_count": 7
        }
      ],
      "source": [
        "len(data)"
      ]
    },
    {
      "cell_type": "code",
      "execution_count": 8,
      "metadata": {
        "colab": {
          "base_uri": "https://localhost:8080/"
        },
        "id": "-YhK9XMSIWxy",
        "outputId": "372fbce2-8dfa-4e88-c744-286298addfd8"
      },
      "outputs": [
        {
          "output_type": "execute_result",
          "data": {
            "text/plain": [
              "[{'author': 'গাজীপুর প্রতিনিধি',\n",
              "  'category': 'bangladesh',\n",
              "  'category_bn': 'বাংলাদেশ',\n",
              "  'comment_count': 0,\n",
              "  'content': 'গাজীপুরের কালিয়াকৈর উপজেলার তেলিরচালা এলাকায় আজ বৃহস্পতিবার রাতের টিফিন খেয়ে একটি পোশাক কারখানার ৫০০ শ্রমিক অসুস্থ হয়ে পড়েছেন। এ ঘটনায় বিক্ষোভ করেছেন ওই কারখানার শ্রমিকেরা।সফিপুর মডার্ন হাসপাতালের জরুরি বিভাগের চিকিত্সক আল আমিন প্রথম আলো ডটকমকে বলেন, খাদ্যে বিষক্রিয়ায় তাঁরা (শ্রমিকেরা) অসুস্থ হয়ে পড়েছেন। এতে আতঙ্কিত হওয়ার কিছু নেই। অসুস্থদের চিকিত্সা দেওয়া হয়েছে।কারখানার শ্রমিক ও পুলিশ সূত্রে জানা যায়, উপজেলার তেলিরচালা এলাকার সেজাদ সোয়েটার লিমিটেড কারখানার শ্রমিকদের আজ রাত সাড়ে সাতটার দিকে টিফিন দেওয়া হয়। টিফিনে ছিল ডিম, রুটি, পেটিস ও কলা। টিফিন খেয়ে শ্রমিকেরা যথারীতি কাজে যোগ দেন। ওই টিফিন খাওয়ার প্রায় এক ঘণ্টা পর রাত সাড়ে আটটার দিকে কয়েকজন শ্রমিকের বমি ও পেট ব্যথা শুরু হয়। এরপর ধীরে ধীরে পুরো কারখানার শ্রমিকেরা অসুস্থ হতে থাকে। অনেকেই কারখানার মেঝেতে ঢলে পড়ে। এতে পাঁচ শতাধিক শ্রমিক অসুস্থ হয়ে পড়ে।পরে কারখানা কর্তৃপক্ষ দ্রুত যানবাহনের ব্যবস্থা করে তাদের সফিপুর জেনারেল হাসপাতাল, সফিপুর মডার্ন হাসপাতাল, উপজেলা স্বাস্থ্য কমপ্লেক্সসহ বিভিন্ন ক্লিনিকে ভর্তি করে। বাসি পচা খাবার দেওয়ায় শ্রমিকরা ক্ষুব্ধ হয়ে কারখানার সামনে বিক্ষোভ করে। খবর পেয়ে পুলিশ গিয়ে শ্রমিকদের বুঝিয়ে ও খাবার সরবরাহ প্রতিষ্ঠানের বিরুদ্ধে ব্যবস্থা নেওয়ার আশ্বাস দিলে শ্রমিকেরা শান্ত হয়।সফিপুর জেনারেল হাসপাতালে ভর্তি শ্রমিক জাকির হোসেন ও আসমা আক্তার বলেন, টিফিন খাওয়ার সময় ডিম ও কেক থেকে দুর্গন্ধ বের হচ্ছিল। এ কারণে অনেকেই ওই খাবার খায়নি। তবে বেশির ভাগ শ্রমিকই ওই খাবার খেয়েছে।কারখানার সহকারী উত্পাদন কর্মকর্তা (এপিএম) বছির উদ্দিন বলেন, টিফিনগুলি যে ঠিকাদারি প্রতিষ্ঠান কারখানায় সরবরাহ করে তাদের বিরুদ্ধে ব্যবস্থা নেওয়া হবে।মৌচাক পুলিশ ফাঁড়ির উপ-পরিদর্শক (এসআই) সৈয়দ আজহারুল ইসলাম প্রথম আলো ডটকমকে বলেন, শ্রমিকদের বুঝিয়ে শান্ত করা হয়েছে। এ ছাড়া কারখানা কর্তৃপক্ষকে খাদ্য সরবরাহ প্রতিষ্ঠানের বিরুদ্ধে ব্যবস্থা নিতে বলা হয়েছে।',\n",
              "  'modification_date': '০৪ জুলাই ২০১৩, ২৩:২৭',\n",
              "  'published_date': '০৪ জুলাই ২০১৩, ২৩:২৬',\n",
              "  'tag': ['গাজীপুর'],\n",
              "  'title': 'কালিয়াকৈরে টিফিন খেয়ে ৫০০ শ্রমিক অসুস্থ, বিক্ষোভ',\n",
              "  'url': 'http://www.prothom-alo.com/bangladesh/article/19030'},\n",
              " {'author': 'অনলাইন ডেস্ক',\n",
              "  'category': 'sports',\n",
              "  'category_bn': 'খেলা',\n",
              "  'comment_count': 0,\n",
              "  'content': 'এবারের উইম্বলডনটা স্মরণীয় করে রাখার মিশনেই যেন নেমেছেন সাবিনা লিসিকি। চতুর্থ রাউন্ডের লড়াইয়ে সেরেনা উইলিয়ামসকে হারিয়ে শুরু করেছিলেন স্বপ্নযাত্রা। কোয়ার্টার ফাইনালে কাইয়া কানেপিকে হারাতে খুব একটা বেগ পেতে হয়নি। তবে সেমিফাইনালে কঠিন প্রতিপক্ষের মুখেই পড়তে হয়েছিল লিসিকিকে। র্যাঙ্কিংয়ের চার নম্বরে থাকা আগ্নিয়েস্কা রাদভানস্কাই ছিলেন আজকের ম্যাচের ফেবারিট। কিন্তু অঘটনের উইম্বলডনে উল্টোটাই ঘটবে, এটাই যেন স্বাভাবিক। হলোই তা-ই। উত্তেজনাপূর্ণ সেমিফাইনালে ৬-৪, ২-৬, ৯-৭ গেমের জয় দিয়ে লিসিকি প্রথমবারের মতো পা রাখলেন উইম্বলডনের ফাইনালে।প্রথম সেটে ৬-৪ গেমের জয় দিয়ে শুরুটা দারুণভাবে করেছিলেন জার্মান তারকা লিসিকি। দ্বিতীয় সেটে ঘুরে দাঁড়ান রাদভানস্কা। খেলায় সমতা ফেরান ২-৬ গেমের জয় দিয়ে। ফলাফল নির্ধারণী তৃতীয় সেটের শুরুতেও বেশ খানিকটা সময় এগিয়ে ছিলেন রাদভানস্কা। কিন্তু ৩-০ ব্যবধানে পিছিয়ে পড়ার পর যেন মরিয়া হয়ে ওঠেন লিসিকি। ঘুরে দাঁড়াতে থাকেন নাটকীয়ভাবে। দুই ঘণ্টা ১৮ মিনিটের শ্বাসরুদ্ধকর লড়াইয়ের পর শেষ হাসিটাও হেসেছেন ২৩ বছর বয়সী লিসিকি।উইম্বলডনের অপর সেমিফাইনালে মারিওন বারতোলি অনায়াসেই হারিয়েছেন বেলজিয়ামের কারস্টেন ফ্লিপকেনসকে। ৬-১, ৬-২ গেমের জয় দিয়ে ফাইনাল নিশ্চিত করেছেন বারতোলি।শিরোপা জয়ের চূড়ান্ত লড়াইয়ে আগামী শনিবার মুখোমুখি হবেন বারতোলি ও লিসিকি।— রয়টার্স',\n",
              "  'modification_date': '০৪ জুলাই ২০১৩, ২৩:১১',\n",
              "  'published_date': '০৪ জুলাই ২০১৩, ২৩:০৯',\n",
              "  'tag': ['টেনিস'],\n",
              "  'title': 'সেমিফাইনাল বাধাও পেরিয়ে গেলেন লিসিকি',\n",
              "  'url': 'http://www.prothom-alo.com/sports/article/19028'},\n",
              " {'author': 'নিজস্ব প্রতিবেদক',\n",
              "  'category': 'bangladesh',\n",
              "  'category_bn': 'বাংলাদেশ',\n",
              "  'comment_count': 0,\n",
              "  'content': 'জাতীয় সংসদে বিএনপি চেয়ারপারসন ও বিরোধীদলীয় নেতা খালেদা জিয়ার দেওয়া ভাষণে ভারত সম্পর্কে আনা নানা অভিযোগের জবাব দিয়েছে দেশটি। ভারতের পক্ষ থেকে এ সংক্রান্ত একটি লিখিত জবাব খালেদা জিয়াকে দেওয়া হয়েছে। আজ বৃহস্পতিবার রাতে বিএনপির গুলশান কার্যালয়ে খালেদা জিয়ার সঙ্গে বাংলাদেশে নিযুক্ত ভারতের হাইকমিশনার পঙ্কজ সরণ সৌজন্য সাক্ষাত্ করেন। সেখানে তিনি খালেদা জিয়ার কাছে ভারতের জবাব সম্বলিত একটি চিঠি দেন। এ সময় বিএনপি চেয়ারপারসনের উপদেষ্টা রিয়াজ রহমান উপস্থিত ছিলেন। সৌজন্য সাক্ষাত্ শেষে রিয়াজ রহমান গুলশান কার্যালয় থেকে বেরিয়ে যাওয়ার সময় প্রথম আলো ডটকমকে একথা বলেন। তিনি জানান, এ ধরনের একটি চিঠি ভারতের পক্ষ থেকে সরকারকেও দেওয়া হয়েছে। বিএনপি চেয়ারপারসন ভারতের হাইকমিশনারকে বলেন, ‘আমরা এই বিষয়গুলো সম্পর্কে কিছুই জানতে পারছি না। ভারত ও বাংলাদেশ সরকারের পক্ষ থেকেও কোনো কিছু জানানো হচ্ছিল না।’ গত ২৯ জুন সংসদে দেওয়া ভাষণে খালেদা জিয়া নারায়ণগঞ্জের কনটেইনার টার্মিনাল নির্মাণের জন্য বাংলাদেশকে না জানিয়ে ভারতের দরপত্র আহ্বান, তিস্তা চুক্তি না হওয়া, টিপাইমুখ বাঁধ নির্মাণ ও সীমান্তে অব্যাহত বাংলাদেশি নাগরিকদের হত্যার অভিযোগ তুলে ধরেন। আজ খালেদাকে দেওয়া চিঠিতে এ সংক্রান্ত বিষয়ে ভারতের অবস্থান তুলে ধরা হয়। এই বিষয়গুলো নিয়ে ভুল বোঝাবুঝির অবসানের জন্য ভারতের পক্ষ থেকে এ চিঠি দেওয়া হয়েছে বলে পঙ্কজ সরণ খালেদা জিয়াকে জানান।রিয়াজ রহমান প্রথম আলো ডটকমকে এ কথা জানিয়ে আরও বলেন, ‘বৈঠকে দেশের সার্বিক রাজনৈতিক পরিস্থিতি নিয়েও কথা হয়েছে।’ তিনি বলেন, চার সিটি করপোরেশন নির্বাচন নিয়েও কথা হয়েছে। নির্দলীয় তত্ত্বাবধায়ক সরকারের দাবি জানিয়ে খালেদা জিয়া বলেন, এর মাধ্যমে সুষ্ঠুভাবে নির্বাচন হয় এবং এটাই তারা চায়। এ সময় পঙ্কজ সরণ খালেদা জিয়াকে বলেন, ‘আপনারা তো সিটি করপোরেশন নির্বাচনে জিতেছেন।’ এর জবাবে খালেদা জিয়া বলেন, ‘চার সিটিতে সুষ্ঠু নির্বাচন হলে আমাদের প্রার্থীরা আরও বেশি ভোটের ব্যবধানে জয়ী হতো।’দুটি দেশের পারষ্পারিক সম্পর্ক নিয়ে বৈঠকে আলোচনা হয়েছে। খালেদা জিয়াকে ভারতের হাইকমিশনার বলেছেন, বিএনপি ভারতের সঙ্গে সুসম্পর্ক চায়। এ প্রসঙ্গে হাইকমিশনার বলেন, ভারতও তাই চায়। তারা বাংলাদেশের অভ্যন্তরীণ কোনো বিষয়ে হস্তক্ষেপ করতে চায় না। ভারত চায় দুটি দেশের জনগনের মধ্যে সম্পর্ক গড়ে উঠুক।বৈঠকে ভারতের হাইকমিশনার তাঁর দেশের প্রধানমন্ত্রী মনমোহন সিংহের একটি অভিনন্দনপত্র বিএনপি চেয়ারপারসনকে দেন। সম্প্রতি ভারতের বিভিন্ন রাজ্যে ভয়াবহ বন্যায় ব্যাপক ক্ষয়ক্ষতি ও প্রাণহানির ঘটনায় দু:খপ্রকাশ করে খালেদা জিয়া চিঠি দেওয়ার মনমোহন এই পত্র দেন।',\n",
              "  'modification_date': '০৪ জুলাই ২০১৩, ২৩:১২',\n",
              "  'published_date': '০৪ জুলাই ২০১৩, ২২:২৫',\n",
              "  'tag': ['রাজনীতি'],\n",
              "  'title': 'সংসদে খালেদার অভিযোগের জবাব দিয়েছে ভারত',\n",
              "  'url': 'http://www.prothom-alo.com/bangladesh/article/19026'}]"
            ]
          },
          "metadata": {},
          "execution_count": 8
        }
      ],
      "source": [
        "data[0:3]"
      ]
    },
    {
      "cell_type": "code",
      "execution_count": 9,
      "metadata": {
        "id": "-wuyjPZRIapP"
      },
      "outputs": [],
      "source": [
        "from tensorflow.keras.preprocessing.text import Tokenizer\n",
        "tokenizer = Tokenizer(num_words=100) #maximum word limit 100\n",
        "tokenizer.fit_on_texts(data[1]['content']) #fit sentence"
      ]
    },
    {
      "cell_type": "code",
      "execution_count": 10,
      "metadata": {
        "colab": {
          "base_uri": "https://localhost:8080/"
        },
        "id": "UTrWcjAcI5m2",
        "outputId": "de1df3d3-3e9f-4c0a-f53f-39894e54adcf"
      },
      "outputs": [
        {
          "output_type": "stream",
          "name": "stdout",
          "text": [
            "{'ে': 1, 'া': 2, 'র': 3, 'ি': 4, 'ন': 5, '়': 6, '্': 7, 'য': 8, 'ক': 9, 'ল': 10, 'স': 11, 'ব': 12, 'ম': 13, 'ত': 14, 'ই': 15, 'ট': 16, '।': 17, 'ু': 18, 'প': 19, 'ড': 20, 'দ': 21, 'ছ': 22, 'ফ': 23, 'শ': 24, 'হ': 25, 'ো': 26, 'জ': 27, 'উ': 28, 'খ': 29, 'গ': 30, 'ী': 31, 'ভ': 32, '৬': 33, 'ণ': 34, 'চ': 35, 'থ': 36, 'ঘ': 37, 'ও': 38, 'এ': 39, '২': 40, 'আ': 41, 'অ': 42, 'ধ': 43, 'ঠ': 44, 'ষ': 45, 'ূ': 46, '৪': 47, 'ঁ': 48, '৩': 49, '১': 50, 'ঙ': 51, 'ং': 52, '৯': 53, '৭': 54, 'ৃ': 55, '০': 56, '৮': 57, '—': 58}\n"
          ]
        },
        {
          "output_type": "execute_result",
          "data": {
            "text/plain": [
              "OrderedDict([('এ', 4),\n",
              "             ('ব', 31),\n",
              "             ('া', 102),\n",
              "             ('র', 77),\n",
              "             ('ে', 107),\n",
              "             ('উ', 8),\n",
              "             ('ই', 24),\n",
              "             ('ম', 31),\n",
              "             ('্', 42),\n",
              "             ('ল', 37),\n",
              "             ('ড', 13),\n",
              "             ('ন', 58),\n",
              "             ('ট', 20),\n",
              "             ('স', 33),\n",
              "             ('ণ', 5),\n",
              "             ('ী', 7),\n",
              "             ('য', 42),\n",
              "             ('়', 43),\n",
              "             ('ক', 38),\n",
              "             ('খ', 8),\n",
              "             ('ি', 69),\n",
              "             ('শ', 10),\n",
              "             ('ছ', 11),\n",
              "             ('।', 18),\n",
              "             ('চ', 5),\n",
              "             ('ত', 25),\n",
              "             ('ু', 18),\n",
              "             ('থ', 5),\n",
              "             ('হ', 10),\n",
              "             ('প', 17),\n",
              "             ('ো', 9),\n",
              "             ('ফ', 11),\n",
              "             ('গ', 8),\n",
              "             ('ঠ', 2),\n",
              "             ('ষ', 2),\n",
              "             ('ঙ', 1),\n",
              "             ('ং', 1),\n",
              "             ('আ', 3),\n",
              "             ('দ', 13),\n",
              "             ('ভ', 6),\n",
              "             ('জ', 9),\n",
              "             ('অ', 3),\n",
              "             ('ঘ', 5),\n",
              "             ('ূ', 2),\n",
              "             ('৬', 6),\n",
              "             ('৪', 2),\n",
              "             ('২', 4),\n",
              "             ('৯', 1),\n",
              "             ('৭', 1),\n",
              "             ('ঁ', 2),\n",
              "             ('ধ', 3),\n",
              "             ('ৃ', 1),\n",
              "             ('ও', 5),\n",
              "             ('৩', 2),\n",
              "             ('০', 1),\n",
              "             ('১', 2),\n",
              "             ('৮', 1),\n",
              "             ('—', 1)])"
            ]
          },
          "metadata": {},
          "execution_count": 10
        }
      ],
      "source": [
        "word_index = tokenizer.word_index\n",
        "print(word_index) #word index of tokenized sentence\n",
        "tokenizer.word_counts #word count of tokenized sentence"
      ]
    },
    {
      "cell_type": "code",
      "execution_count": 11,
      "metadata": {
        "colab": {
          "base_uri": "https://localhost:8080/"
        },
        "id": "PUQPun9EJsLS",
        "outputId": "1f6d4afd-8539-4f1e-e737-2edff7fcd7c8"
      },
      "outputs": [
        {
          "output_type": "stream",
          "name": "stdout",
          "text": [
            "32\n"
          ]
        }
      ],
      "source": [
        "all_category = []\n",
        "for i in range(len(data)):\n",
        "  cat = data[i]['category']\n",
        "  #print(cat)\n",
        "  all_category.append(cat)\n",
        "\n",
        "#tota unique category\n",
        "unique_cat = np.unique(np.array(all_category))\n",
        "print(len(unique_cat))"
      ]
    },
    {
      "cell_type": "code",
      "execution_count": 12,
      "metadata": {
        "colab": {
          "base_uri": "https://localhost:8080/"
        },
        "id": "sRO_mT1SKZq9",
        "outputId": "26c20c6f-096a-4dce-ddc8-0f33491e12d9"
      },
      "outputs": [
        {
          "output_type": "execute_result",
          "data": {
            "text/plain": [
              "Counter({'-1': 123,\n",
              "         '22221': 11,\n",
              "         'AskEditor': 1,\n",
              "         'bangladesh': 232504,\n",
              "         'bondhushava': 990,\n",
              "         'bs-events': 1,\n",
              "         'chakri-bakri': 75,\n",
              "         'demo-content': 2,\n",
              "         'diverse': 2,\n",
              "         'durporobash': 7402,\n",
              "         'economy': 17245,\n",
              "         'education': 9721,\n",
              "         'entertainment': 30466,\n",
              "         'events': 2,\n",
              "         'facebook': 10,\n",
              "         'international': 30856,\n",
              "         'kishoralo': 508,\n",
              "         'life-style': 10852,\n",
              "         'mpaward1': 17,\n",
              "         'nagorik-kantho': 83,\n",
              "         'northamerica': 6990,\n",
              "         'onnoalo': 2702,\n",
              "         'opinion': 15699,\n",
              "         'pachmisheli': 3443,\n",
              "         'protichinta': 170,\n",
              "         'roshalo': 2604,\n",
              "         'special-supplement': 859,\n",
              "         'sports': 49012,\n",
              "         'tarunno': 40,\n",
              "         'technology': 12116,\n",
              "         'trust': 443,\n",
              "         'we-are': 2999})"
            ]
          },
          "metadata": {},
          "execution_count": 12
        }
      ],
      "source": [
        "from collections import Counter \n",
        "Counter(all_category)"
      ]
    },
    {
      "cell_type": "code",
      "execution_count": 13,
      "metadata": {
        "colab": {
          "base_uri": "https://localhost:8080/"
        },
        "id": "hweSAMTcMKl9",
        "outputId": "61c03ecb-5634-45fc-cf6c-c311bc947711"
      },
      "outputs": [
        {
          "output_type": "execute_result",
          "data": {
            "text/plain": [
              "[('-1', 123),\n",
              " ('22221', 11),\n",
              " ('AskEditor', 1),\n",
              " ('bangladesh', 232504),\n",
              " ('bondhushava', 990),\n",
              " ('bs-events', 1),\n",
              " ('chakri-bakri', 75),\n",
              " ('demo-content', 2),\n",
              " ('diverse', 2),\n",
              " ('durporobash', 7402),\n",
              " ('economy', 17245),\n",
              " ('education', 9721),\n",
              " ('entertainment', 30466),\n",
              " ('events', 2),\n",
              " ('facebook', 10),\n",
              " ('international', 30856),\n",
              " ('kishoralo', 508),\n",
              " ('life-style', 10852),\n",
              " ('mpaward1', 17),\n",
              " ('nagorik-kantho', 83),\n",
              " ('northamerica', 6990),\n",
              " ('onnoalo', 2702),\n",
              " ('opinion', 15699),\n",
              " ('pachmisheli', 3443),\n",
              " ('protichinta', 170),\n",
              " ('roshalo', 2604),\n",
              " ('special-supplement', 859),\n",
              " ('sports', 49012),\n",
              " ('tarunno', 40),\n",
              " ('technology', 12116),\n",
              " ('trust', 443),\n",
              " ('we-are', 2999)]"
            ]
          },
          "metadata": {},
          "execution_count": 13
        }
      ],
      "source": [
        "category_count = []\n",
        "for category in unique_cat:\n",
        "  x = all_category.count(category)\n",
        "  category_count.append((category,x))\n",
        "\n",
        "category_count.sort()\n",
        "category_count"
      ]
    },
    {
      "cell_type": "code",
      "execution_count": 14,
      "metadata": {
        "colab": {
          "base_uri": "https://localhost:8080/"
        },
        "id": "-48VObyvK3Vt",
        "outputId": "f45c65fb-0b6f-49ea-bc01-440daba77cfc"
      },
      "outputs": [
        {
          "output_type": "execute_result",
          "data": {
            "text/plain": [
              "['bangladesh',\n",
              " 'durporobash',\n",
              " 'economy',\n",
              " 'education',\n",
              " 'entertainment',\n",
              " 'international',\n",
              " 'life-style',\n",
              " 'northamerica',\n",
              " 'opinion',\n",
              " 'sports',\n",
              " 'technology']"
            ]
          },
          "metadata": {},
          "execution_count": 14
        }
      ],
      "source": [
        "new_cat = []\n",
        "for i in category_count:\n",
        "  if i[1]>6000:\n",
        "    new_cat.append(i[0])\n",
        "new_cat"
      ]
    },
    {
      "cell_type": "code",
      "execution_count": 15,
      "metadata": {
        "id": "AT58N8mFMEUO"
      },
      "outputs": [],
      "source": [
        "feature = []\n",
        "target = []\n",
        "\n",
        "for p in data:\n",
        "  if p['category'] in new_cat:\n",
        "    feature.append(p['content'])\n",
        "    target.append(p['category'])"
      ]
    },
    {
      "cell_type": "code",
      "execution_count": 16,
      "metadata": {
        "colab": {
          "base_uri": "https://localhost:8080/"
        },
        "id": "8SIpf3SgNFYc",
        "outputId": "4bbf30a2-f6c5-41ec-93f3-a5ab4e91b530"
      },
      "outputs": [
        {
          "output_type": "stream",
          "name": "stdout",
          "text": [
            "422863\n",
            "422863\n"
          ]
        }
      ],
      "source": [
        "print(len(target))\n",
        "print(len(feature))\n"
      ]
    },
    {
      "cell_type": "code",
      "execution_count": 17,
      "metadata": {
        "colab": {
          "base_uri": "https://localhost:8080/"
        },
        "id": "OjY2gGtoNLEW",
        "outputId": "bb725d7b-85cc-47f0-ec56-1326606a94a3"
      },
      "outputs": [
        {
          "output_type": "stream",
          "name": "stdout",
          "text": [
            "category: -- bangladesh\n",
            "content: -- নিখোঁজ ছাত্র আজিজুল হক ওরফে শাওনকে (১৭) উদ্ধারের দাবিতে বগুড়ার শেরপুরে ঢাকা-বগুড়া মহাসড়ক অবরোধ, বিক্ষোভ মিছিল ও সমাবেশ হয়েছে। সচেতন শেরপুরবাসীর আয়োজনে গত মঙ্গলবার বিকেলে এই কর্মসূচি পালন করা হয়। স্থানীয় বাসস্ট্যান্ড চত্বরে বিকেল সাড়ে পাঁচটায় আয়োজিত সমাবেশে সভাপতিত্ব করেন শেরপুর পৌরসভার কাউন্সিলর নিমাই ঘোষ। বক্তব্য দেন জানে আলম, আবদুল বারী, বদরুল ইসলাম পোদ্দার, শাহাবুল করিম, ব্যবসায়ী পিয়ার হোসেন, আমিনুল ইসলাম প্রমুখ। বক্তারা আগামী এক মাসের মধ্যে তাকে উদ্ধারের দাবি জানানো হয়। নিখোঁজ শাওন ঢাকার ক্যামব্রিয়ান স্কুল অ্যান্ড কলেজের একাদশ শ্রেণীর দ্বিতীয় বর্ষের ছাত্র ও শেরপুর পৌর শহরের হাজীপুর এলাকার মো. আক্তারুজ্জামানের ছেলে। গত বছরের ২ নভেম্বর ঢাকার কুড়িল বিশ্বরোড এলাকা থেকে সে নিখোঁজ হয়।\n"
          ]
        }
      ],
      "source": [
        "print(\"category: --\", target[100])\n",
        "print(\"content: --\", feature[100])"
      ]
    },
    {
      "cell_type": "code",
      "execution_count": 18,
      "metadata": {
        "colab": {
          "base_uri": "https://localhost:8080/"
        },
        "id": "i22OAiZdNesX",
        "outputId": "a791313c-67aa-4b70-d603-ddfaa8591e6b"
      },
      "outputs": [
        {
          "output_type": "execute_result",
          "data": {
            "text/plain": [
              "1201"
            ]
          },
          "metadata": {},
          "execution_count": 18
        }
      ],
      "source": [
        "len(feature[1])"
      ]
    },
    {
      "cell_type": "code",
      "execution_count": 19,
      "metadata": {
        "id": "3JdUJt7TNj5a"
      },
      "outputs": [],
      "source": [
        "from sklearn.preprocessing import LabelEncoder\n",
        "le = LabelEncoder()\n",
        "\n",
        "en_target = le.fit_transform(target)"
      ]
    },
    {
      "cell_type": "code",
      "execution_count": 20,
      "metadata": {
        "colab": {
          "base_uri": "https://localhost:8080/"
        },
        "id": "5HBxooaSN5Aj",
        "outputId": "9da91346-7326-4010-98f4-1724abacf378"
      },
      "outputs": [
        {
          "output_type": "execute_result",
          "data": {
            "text/plain": [
              "{0, 1, 2, 3, 4, 5, 6, 7, 8, 9, 10}"
            ]
          },
          "metadata": {},
          "execution_count": 20
        }
      ],
      "source": [
        "set(en_target)"
      ]
    },
    {
      "cell_type": "code",
      "execution_count": 21,
      "metadata": {
        "colab": {
          "base_uri": "https://localhost:8080/"
        },
        "id": "izoBmCE6N8FF",
        "outputId": "5cafef7a-747c-4e04-d98e-bf71e7ae7743"
      },
      "outputs": [
        {
          "output_type": "execute_result",
          "data": {
            "text/plain": [
              "422863"
            ]
          },
          "metadata": {},
          "execution_count": 21
        }
      ],
      "source": [
        "len(en_target)"
      ]
    },
    {
      "cell_type": "code",
      "execution_count": 22,
      "metadata": {
        "id": "gHWyBs2XN-_j"
      },
      "outputs": [],
      "source": [
        "train_size = 400000\n",
        "#train\n",
        "train_cont = feature[:train_size]\n",
        "train_cat = en_target[:train_size]\n",
        "#test\n",
        "test_cont = feature[train_size:]\n",
        "test_cat = en_target[train_size:]"
      ]
    },
    {
      "cell_type": "code",
      "execution_count": 23,
      "metadata": {
        "colab": {
          "base_uri": "https://localhost:8080/"
        },
        "id": "x7fWctxEOqI-",
        "outputId": "1b93ecfe-e7fd-4289-ce54-e7c33f02079f"
      },
      "outputs": [
        {
          "output_type": "stream",
          "name": "stdout",
          "text": [
            "400000\n",
            "22863\n"
          ]
        }
      ],
      "source": [
        "print(len(train_cont))\n",
        "print(len(test_cont))"
      ]
    },
    {
      "cell_type": "code",
      "execution_count": 24,
      "metadata": {
        "id": "5dv4uUjgOvAp"
      },
      "outputs": [],
      "source": [
        "import tensorflow as tf \n",
        "from tensorflow.keras.preprocessing.text import Tokenizer\n",
        "from tensorflow.keras.preprocessing.sequence import pad_sequences"
      ]
    },
    {
      "cell_type": "code",
      "execution_count": 25,
      "metadata": {
        "id": "l8IV6HNSO9jP"
      },
      "outputs": [],
      "source": [
        "tokenizer = Tokenizer(oov_token=\"<OOV>\")\n",
        "tokenizer.fit_on_texts(train_cont)"
      ]
    },
    {
      "cell_type": "code",
      "execution_count": 26,
      "metadata": {
        "colab": {
          "base_uri": "https://localhost:8080/"
        },
        "id": "-OU5u6gkPQSP",
        "outputId": "b17cb9e6-e3aa-4d10-dd4f-4eee996b7390"
      },
      "outputs": [
        {
          "output_type": "execute_result",
          "data": {
            "text/plain": [
              "[('<OOV>', 1),\n",
              " ('ও', 2),\n",
              " ('এ', 3),\n",
              " ('থেকে', 4),\n",
              " ('করে', 5),\n",
              " ('করা', 6),\n",
              " ('বলেন', 7),\n",
              " ('এই', 8),\n",
              " ('না', 9),\n",
              " ('জন্য', 10),\n",
              " ('তিনি', 11),\n",
              " ('সঙ্গে', 12),\n",
              " ('তাঁর', 13),\n",
              " ('এক', 14),\n",
              " ('একটি', 15),\n",
              " ('নিয়ে', 16),\n",
              " ('করতে', 17),\n",
              " ('এবং', 18),\n",
              " ('আর', 19),\n",
              " ('হয়।', 20)]"
            ]
          },
          "metadata": {},
          "execution_count": 26
        }
      ],
      "source": [
        "list(tokenizer.word_index.items())[:20]"
      ]
    },
    {
      "cell_type": "code",
      "execution_count": 27,
      "metadata": {
        "colab": {
          "base_uri": "https://localhost:8080/"
        },
        "id": "hOOlILtFPm9h",
        "outputId": "f7427939-d50f-430d-b587-d065f84a54a9"
      },
      "outputs": [
        {
          "output_type": "stream",
          "name": "stdout",
          "text": [
            "2410176\n"
          ]
        }
      ],
      "source": [
        "vocab_size = len(tokenizer.word_index)+1\n",
        "print(vocab_size)"
      ]
    },
    {
      "cell_type": "code",
      "execution_count": 28,
      "metadata": {
        "id": "9KL1lQRRPxSq"
      },
      "outputs": [],
      "source": [
        "max_length = 500\n",
        "trunc_type = 'post'\n",
        "padding_type = 'post'\n",
        "train_sequences = tokenizer.texts_to_sequences(train_cont)\n",
        "train_padded = pad_sequences(train_sequences, maxlen=max_length, padding=padding_type, truncating=trunc_type)\n",
        "\n",
        "test_sequences = tokenizer.texts_to_sequences(test_cont)\n",
        "test_padded = pad_sequences(test_sequences, maxlen=max_length, padding=padding_type, truncating=trunc_type)"
      ]
    },
    {
      "cell_type": "code",
      "execution_count": 29,
      "metadata": {
        "id": "cW1y0ogaQVYB",
        "colab": {
          "base_uri": "https://localhost:8080/"
        },
        "outputId": "2726c13e-cabd-486a-c183-442bed01edbe"
      },
      "outputs": [
        {
          "output_type": "stream",
          "name": "stdout",
          "text": [
            "[467, 26674, 828, 10835, 40417, 2898, 15556, 65, 339, 284, 696, 2134, 283, 2098, 7817, 2397, 1062, 2686, 1224, 1147, 696, 6153, 6600, 111, 32, 6747, 204, 346172, 2397, 57163, 4, 498, 386, 65, 276, 7180, 402, 2634, 76, 551, 6174, 1013, 2898, 15556, 1859, 799684, 4480, 1584, 2632, 237, 15, 2737, 696, 2134, 3, 322, 1013, 6112, 4, 27956, 327, 92, 72, 163444, 2098, 7817, 526038, 258, 2326, 4, 452, 18, 5424, 2451, 4, 152, 2686, 1224, 1099, 276, 4166, 520, 998, 696, 2155, 32183, 454, 214, 7817, 2240, 3204, 3832, 14860, 4, 3, 696, 302793, 2397, 86223, 334, 85, 379, 799685, 799686, 86, 1013, 2898, 15556, 1190, 4391, 199805, 57, 271140, 807, 253, 2944, 820, 14, 116, 464, 23767, 278, 239, 6, 576, 820, 124, 116, 464, 799687, 2397, 263, 5442, 2723, 3588, 102, 26, 737, 6129, 86, 8802, 37859, 4164, 1497, 341, 15, 380, 121763, 127, 7817, 2397, 797, 2898, 15556, 5110, 9308, 604, 278, 3, 527, 1759, 63751, 32, 233, 50, 9, 1567, 86, 354]\n"
          ]
        },
        {
          "output_type": "execute_result",
          "data": {
            "text/plain": [
              "169"
            ]
          },
          "metadata": {},
          "execution_count": 29
        }
      ],
      "source": [
        "# print a single text sequence\n",
        "print(train_sequences[1000])\n",
        "len(train_sequences[1000]) # len of senence"
      ]
    },
    {
      "cell_type": "code",
      "execution_count": 30,
      "metadata": {
        "id": "g5peKrAvQluH"
      },
      "outputs": [],
      "source": [
        "import numpy as np\n",
        "\n",
        "training_padded = np.array(train_padded)\n",
        "training_labels = np.array(train_cat)\n",
        "testing_padded = np.array(test_padded)\n",
        "testing_labels = np.array(test_cat)"
      ]
    },
    {
      "cell_type": "code",
      "execution_count": 31,
      "metadata": {
        "id": "JD7oGBFMQqk4",
        "colab": {
          "base_uri": "https://localhost:8080/"
        },
        "outputId": "3ce3bb9d-a7ac-4a6e-e274-e8f586051913"
      },
      "outputs": [
        {
          "output_type": "execute_result",
          "data": {
            "text/plain": [
              "(400000, 500)"
            ]
          },
          "metadata": {},
          "execution_count": 31
        }
      ],
      "source": [
        "training_padded.shape"
      ]
    },
    {
      "cell_type": "code",
      "execution_count": 32,
      "metadata": {
        "id": "vVpiuJr5Qqfn"
      },
      "outputs": [],
      "source": [
        "model =tf.keras.Sequential([tf.keras.layers.Embedding(input_dim=vocab_size,output_dim=11, input_length=max_length),\n",
        "                            tf.keras.layers.Bidirectional(tf.keras.layers.LSTM(64, return_sequences=True)),\n",
        "                            tf.keras.layers.Bidirectional(tf.keras.layers.LSTM(128, return_sequences=True)),\n",
        "                            tf.keras.layers.Bidirectional(tf.keras.layers.LSTM(128, return_sequences=True)),\n",
        "                            tf.keras.layers.Bidirectional(tf.keras.layers.LSTM(32)),\n",
        "                            tf.keras.layers.Dense(11, activation='softmax')\n",
        "])"
      ]
    },
    {
      "cell_type": "code",
      "execution_count": 33,
      "metadata": {
        "id": "8SXke27CQqaH",
        "colab": {
          "base_uri": "https://localhost:8080/"
        },
        "outputId": "5dab0869-5fea-433f-e6ec-052d1aef72cd"
      },
      "outputs": [
        {
          "output_type": "stream",
          "name": "stdout",
          "text": [
            "Model: \"sequential\"\n",
            "_________________________________________________________________\n",
            " Layer (type)                Output Shape              Param #   \n",
            "=================================================================\n",
            " embedding (Embedding)       (None, 500, 11)           26511936  \n",
            "                                                                 \n",
            " bidirectional (Bidirectiona  (None, 500, 128)         38912     \n",
            " l)                                                              \n",
            "                                                                 \n",
            " bidirectional_1 (Bidirectio  (None, 500, 256)         263168    \n",
            " nal)                                                            \n",
            "                                                                 \n",
            " bidirectional_2 (Bidirectio  (None, 500, 256)         394240    \n",
            " nal)                                                            \n",
            "                                                                 \n",
            " bidirectional_3 (Bidirectio  (None, 64)               73984     \n",
            " nal)                                                            \n",
            "                                                                 \n",
            " dense (Dense)               (None, 11)                715       \n",
            "                                                                 \n",
            "=================================================================\n",
            "Total params: 27,282,955\n",
            "Trainable params: 27,282,955\n",
            "Non-trainable params: 0\n",
            "_________________________________________________________________\n"
          ]
        }
      ],
      "source": [
        "model.compile(loss='sparse_categorical_crossentropy',optimizer='adam',metrics=['accuracy']) \n",
        "model.summary()"
      ]
    },
    {
      "cell_type": "code",
      "execution_count": 34,
      "metadata": {
        "id": "nAtfNX2_Rhqw"
      },
      "outputs": [],
      "source": [
        "tensorboard_callback = tf.keras.callbacks.TensorBoard(log_dir=\"logs\")"
      ]
    },
    {
      "cell_type": "code",
      "execution_count": null,
      "metadata": {
        "id": "BMu7ven4RhnZ",
        "colab": {
          "base_uri": "https://localhost:8080/"
        },
        "outputId": "49e83c1c-b100-45e9-d929-3adbd23b04b4"
      },
      "outputs": [
        {
          "output_type": "stream",
          "name": "stdout",
          "text": [
            "Epoch 1/10\n",
            "    8/12500 [..............................] - ETA: 15:01:08 - loss: 1.9653 - accuracy: 0.5195"
          ]
        }
      ],
      "source": [
        "history = model.fit(training_padded, training_labels, epochs=10, validation_data=(testing_padded, testing_labels), callbacks=[tensorboard_callback])"
      ]
    },
    {
      "cell_type": "code",
      "execution_count": null,
      "metadata": {
        "id": "8JEb3BjQRhkg"
      },
      "outputs": [],
      "source": [
        "model.save('news_category_classifier.h5')"
      ]
    },
    {
      "cell_type": "code",
      "execution_count": null,
      "metadata": {
        "id": "oOJzYLjIRhhn"
      },
      "outputs": [],
      "source": [
        "import matplotlib.pyplot as plt\n",
        "\n",
        "# Accuracy and loss plotting function\n",
        "def plot_graphs(history, string):\n",
        "    plt.plot(history.history[string])\n",
        "    plt.plot(history.history['val_'+string])\n",
        "    plt.xlabel(\"Epochs\")\n",
        "    plt.ylabel(string)\n",
        "    plt.legend([string, 'val_'+string])\n",
        "    plt.title(string+' Measurement')\n",
        "    plt.show() "
      ]
    },
    {
      "cell_type": "code",
      "execution_count": null,
      "metadata": {
        "id": "o0SMi4DORhd-"
      },
      "outputs": [],
      "source": [
        "plot_graphs(history, \"accuracy\")\n",
        "plot_graphs(history, \"loss\")"
      ]
    },
    {
      "cell_type": "code",
      "execution_count": null,
      "metadata": {
        "id": "xoQ9mVC1RhZ7"
      },
      "outputs": [],
      "source": [
        "%load_ext tensorboard\n",
        "%tensorboard --logdir logs"
      ]
    },
    {
      "cell_type": "code",
      "execution_count": null,
      "metadata": {
        "id": "1k0yDDPfRhII"
      },
      "outputs": [],
      "source": [
        ""
      ]
    }
  ],
  "metadata": {
    "accelerator": "TPU",
    "colab": {
      "name": "Bangla Newpaper categorization.ipynb",
      "provenance": []
    },
    "kernelspec": {
      "display_name": "Python 3",
      "name": "python3"
    },
    "language_info": {
      "name": "python"
    }
  },
  "nbformat": 4,
  "nbformat_minor": 0
}